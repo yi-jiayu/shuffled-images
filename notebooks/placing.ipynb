{
 "cells": [
  {
   "cell_type": "code",
   "execution_count": 1,
   "metadata": {},
   "outputs": [],
   "source": [
    "import numpy as np\n",
    "import itertools\n",
    "from skimage import color, io\n",
    "\n",
    "P = 0.3\n",
    "Q = 0.0625\n",
    "\n",
    "LEFT = 0\n",
    "RIGHT = 1\n",
    "UP = 2\n",
    "DOWN = 3"
   ]
  },
  {
   "cell_type": "code",
   "execution_count": 2,
   "metadata": {},
   "outputs": [],
   "source": [
    "def load_image(path):\n",
    "    return color.rgb2lab(io.imread(path))\n",
    "\n",
    "\n",
    "def split_into_squares(image, nrows, ncols):\n",
    "    return list(itertools.chain.from_iterable(np.hsplit(r, ncols) for r in np.split(image, nrows)))\n",
    "\n",
    "\n",
    "def calculate_dissimilarity(x_i, x_j, relation):\n",
    "    nrows, ncols, _ = x_i.shape\n",
    "\n",
    "    if relation == LEFT:\n",
    "        return calculate_dissimilarity(x_j, x_i, RIGHT)\n",
    "    elif relation == RIGHT:\n",
    "        return np.sum(\n",
    "            np.power(np.power(np.abs((2 * x_i[:, ncols - 1] - x_i[:, ncols - 2]) - x_j[:, 0]), P) +\n",
    "                     np.power(np.abs((2 * x_j[:, 0] - x_j[:, 1]) - x_i[:, ncols - 1]), P), Q / P))\n",
    "    elif relation == UP:\n",
    "        return calculate_dissimilarity(x_j, x_i, DOWN)\n",
    "    elif relation == DOWN:\n",
    "        return np.sum(\n",
    "            np.power(np.power(np.abs((2 * x_i[nrows - 1] - x_i[nrows - 2]) - x_j[0]), P) +\n",
    "                     np.power(np.abs((2 * x_j[0] - x_j[1]) - x_i[nrows - 1]), P), Q / P))\n",
    "    else:\n",
    "        raise TypeError(f'invalid relation: {relation}')\n",
    "\n",
    "\n",
    "def build_dissimilarity_matrix(squares):\n",
    "    dissimilarity_matrix = np.empty((4, len(squares), len(squares)))\n",
    "    for relation in range(4):\n",
    "        for i, x_i in enumerate(squares):\n",
    "            for j, x_j in enumerate(squares):\n",
    "                if i == j:\n",
    "                    continue\n",
    "                dissimilarity_matrix[relation][i][j] = calculate_dissimilarity(x_i, x_j, relation)\n",
    "    return dissimilarity_matrix\n",
    "\n",
    "\n",
    "def calculate_compatibility(dissimilarity_matrix, i, j, relation):\n",
    "    return np.exp(-dissimilarity_matrix[relation][i][j] /\n",
    "                  np.percentile(np.delete(dissimilarity_matrix[relation][i], i), 25))\n",
    "\n",
    "\n",
    "def build_compatibility_matrix(dissimilarity_matrix):\n",
    "    _, order, _ = dissimilarity_matrix.shape\n",
    "    compatibility_matrix = np.empty((4, order, order))\n",
    "    for relation in range(4):\n",
    "        for i in range(order):\n",
    "            for j in range(order):\n",
    "                if i == j:\n",
    "                    continue\n",
    "                compatibility_matrix[relation][i][j] = calculate_compatibility(dissimilarity_matrix, i, j, relation)\n",
    "    return compatibility_matrix\n",
    "\n",
    "\n",
    "def calculate_best_neighbours(compatibility_matrix):\n",
    "    _, order, _ = compatibility_matrix.shape\n",
    "    best_neighbours = np.zeros((4, order), dtype=int)\n",
    "    for relation in range(4):\n",
    "        for i in range(order):\n",
    "            best_neighbours[relation][i] = np.argmax(compatibility_matrix[relation][i])\n",
    "    return best_neighbours\n",
    "\n",
    "\n",
    "def opposite_relation(relation):\n",
    "    if relation == 0 or relation == 2:\n",
    "        return relation + 1\n",
    "    else:\n",
    "        return relation - 1"
   ]
  },
  {
   "cell_type": "code",
   "execution_count": 71,
   "metadata": {},
   "outputs": [],
   "source": [
    "def find_best_estimated_seed(best_neighbours):\n",
    "    _, order = best_neighbours.shape\n",
    "    num_best_buddies = np.zeros(order, dtype=int)\n",
    "    for relation in range(4):\n",
    "        for i in range(order):\n",
    "            buddy = best_neighbours[relation][i]\n",
    "            opposite = opposite_relation(relation)\n",
    "            if best_neighbours[opposite][buddy] == i:\n",
    "                num_best_buddies[i] += 1\n",
    "    return np.argmax(num_best_buddies)\n"
   ]
  },
  {
   "cell_type": "code",
   "execution_count": 4,
   "metadata": {},
   "outputs": [
    {
     "name": "stdout",
     "output_type": "stream",
     "text": [
      "3\n",
      "0\n"
     ]
    }
   ],
   "source": [
    "image = load_image('../data/data_train/64/1200.png')\n",
    "squares = split_into_squares(image, 8, 8)\n",
    "dissimilarity_matrix = build_dissimilarity_matrix(squares)\n",
    "compatibility_matrix = build_compatibility_matrix(dissimilarity_matrix)\n",
    "best_neighbours = calculate_best_neighbours(compatibility_matrix)\n",
    "print(best_neighbours[RIGHT][0])\n",
    "print(best_neighbours[LEFT][3])"
   ]
  },
  {
   "cell_type": "code",
   "execution_count": 7,
   "metadata": {},
   "outputs": [
    {
     "name": "stdout",
     "output_type": "stream",
     "text": [
      "[4 4 3 4 4 4 3 4 3 3 4 3 4 4 3 4 4 4 4 4 4 3 3 3 4 4 4 4 4 3 2 4 2 3 4 4 4\n",
      " 4 4 3 4 3 4 3 4 2 4 3 4 2 4 3 3 4 4 3 2 3 4 4 3 4 4 4]\n",
      "0\n"
     ]
    }
   ],
   "source": [
    "print(find_best_estimated_seed(best_neighbours))"
   ]
  },
  {
   "cell_type": "code",
   "execution_count": 17,
   "metadata": {},
   "outputs": [
    {
     "name": "stdout",
     "output_type": "stream",
     "text": [
      "[[0 1 2]\n",
      " [3 4 5]\n",
      " [6 7 8]]\n",
      "[[2 0 1]\n",
      " [5 3 4]\n",
      " [8 6 7]]\n"
     ]
    }
   ],
   "source": [
    "arr = np.arange(9).reshape((3, 3))\n",
    "print(arr)\n",
    "print(np.roll(arr, 1, 1))"
   ]
  },
  {
   "cell_type": "code",
   "execution_count": 24,
   "metadata": {},
   "outputs": [],
   "source": [
    "def neighbours(puzzle, i, j):\n",
    "    nrows, ncols = puzzle.shape\n",
    "    if i > 0:\n",
    "        yield i -1, j\n",
    "    if i < nrows - 1:\n",
    "        yield i + 1, j\n",
    "    if j > 0:\n",
    "        yield i, j- 1\n",
    "    if j < ncols - 1:\n",
    "        yield i, j+1"
   ]
  },
  {
   "cell_type": "code",
   "execution_count": 60,
   "metadata": {},
   "outputs": [],
   "source": [
    "def initialise_occupied_neighbours(puzzle):\n",
    "    nrows, ncols = puzzle.shape\n",
    "    num_occupied_neighbours = np.zeros((nrows, ncols), dtype=int)\n",
    "    for i in range(nrows):\n",
    "        for j in range(ncols):\n",
    "            if puzzle[i][j] >= 0:\n",
    "                continue\n",
    "            for x, y in neighbours(puzzle, i, j):\n",
    "                if puzzle[x][y] >= 0:\n",
    "                    num_occupied_neighbours[i][j] += 1\n",
    "    return num_occupied_neighbours"
   ]
  },
  {
   "cell_type": "code",
   "execution_count": 61,
   "metadata": {},
   "outputs": [],
   "source": [
    "def find_candidate_slots(num_occupied_neighbours):\n",
    "    nrows, ncols = num_occupied_neighbours.shape\n",
    "    most_occupied_neighbours = np.max(num_occupied_neighbours)            \n",
    "    for i in range(nrows):\n",
    "        for j in range(ncols):\n",
    "            if num_occupied_neighbours[i][j] == most_occupied_neighbours:\n",
    "                yield i, j"
   ]
  },
  {
   "cell_type": "code",
   "execution_count": 63,
   "metadata": {},
   "outputs": [],
   "source": [
    "puzzle = np.full((3, 3), -1)\n",
    "puzzle[1][1] = 1\n",
    "occupied_neighbours = initialise_occupied_neighbours(puzzle)\n",
    "assert list(find_candidate_slots(occupied_neighbours)) == [(0, 1), (1, 0), (1, 2), (2, 1)]\n",
    "puzzle[0][1] = 1\n",
    "puzzle[1][0] = 1\n",
    "occupied_neighbours = initialise_occupied_neighbours(puzzle)\n",
    "assert list(find_candidate_slots(occupied_neighbours)) == [(0, 0)]"
   ]
  },
  {
   "cell_type": "code",
   "execution_count": 64,
   "metadata": {},
   "outputs": [],
   "source": [
    "def best_buddies(best_neighbours, relation, i, j):\n",
    "    return best_neighbours[relation][i] == j and best_neighbours[opposite_relation(relation)][j] == i"
   ]
  },
  {
   "cell_type": "code",
   "execution_count": 65,
   "metadata": {},
   "outputs": [],
   "source": [
    "# part fits in slot if it is best buddies with all the occupied neighbours of that slot\n",
    "def does_part_fit_in_slot(puzzle, best_neighbours, slot, part):\n",
    "    nrows, ncols = puzzle.shape\n",
    "    i, j = slot\n",
    "    # if right neighbour is occupied\n",
    "    if j < ncols - 1 and puzzle[i][j+1] >= 0:\n",
    "        if not best_buddies(best_neighbours, RIGHT, part, puzzle[i][j+1]):\n",
    "            return False\n",
    "    # if left neighbour is occupied\n",
    "    if j > 0 and puzzle[i][j-1] >= 0:\n",
    "        if not best_buddies(best_neighbours, LEFT, part, puzzle[i][j-1]):\n",
    "            return False\n",
    "    # if top nieghbour is occupied\n",
    "    if i > 0 and puzzle[i-1][j] >= 0:\n",
    "        if not best_buddies(best_neighbours, UP, part, puzzle[i-1][j]):\n",
    "            return False\n",
    "    # if bottom neighbour is occupied\n",
    "    if i < nrows -1 and puzzle[i+1][j] >= 0:\n",
    "        if not best_buddies(best_neighbours, DOWN, part, puzzle[i+1][j]):\n",
    "            return False\n",
    "    return True"
   ]
  },
  {
   "cell_type": "code",
   "execution_count": 78,
   "metadata": {},
   "outputs": [],
   "source": [
    "def average_compatibility_with_slot(puzzle, compatibility_matrix, slot, part):\n",
    "    nrows, ncols = puzzle.shape\n",
    "    i, j = slot\n",
    "    total_compatibility = 0\n",
    "    num_neighbours = 0\n",
    "    # if right neighbour is occupied\n",
    "    if j < ncols - 1 and puzzle[i][j+1] >= 0:\n",
    "        total_compatibility += compatibility_matrix[RIGHT][part][puzzle[i][j+1]]\n",
    "        num_neighbours += 1\n",
    "    # if left neighbour is occupied\n",
    "    if j > 0 and puzzle[i][j-1] >= 0:\n",
    "        total_compatibility += compatibility_matrix[LEFT][part][puzzle[i][j-1]]\n",
    "        num_neighbours += 1\n",
    "    # if top nieghbour is occupied\n",
    "    if i > 0 and puzzle[i-1][j] >= 0:\n",
    "        total_compatibility += compatibility_matrix[UP][part][puzzle[i-1][j]]\n",
    "        num_neighbours += 1\n",
    "    # if bottom neighbour is occupied\n",
    "    if i < nrows -1 and puzzle[i+1][j] >= 0:\n",
    "        total_compatibility += compatibility_matrix[DOWN][part][puzzle[i+1][j]]\n",
    "        num_neighbours += 1\n",
    "    return total_compatibility / num_neighbours"
   ]
  },
  {
   "cell_type": "code",
   "execution_count": 93,
   "metadata": {},
   "outputs": [],
   "source": [
    "def place_remaining_parts(puzzle, compatibility_matrix, unallocated_parts):\n",
    "    best_neighbours = calculate_best_neighbours(compatibility_matrix)\n",
    "    num_occupied_neighbours = initialise_occupied_neighbours(puzzle)\n",
    "    candidate_slots = list(find_candidate_slots(num_occupied_neighbours))\n",
    "    matches = [(slot, part) for slot in candidate_slots for part in unallocated_parts if does_part_fit_in_slot(puzzle, best_neighbours, slot, part)]\n",
    "    if len(matches) == 1:\n",
    "        slot, part = matches.pop()\n",
    "    else:\n",
    "        average_compatibilities = [(average_compatibility_with_slot(puzzle, compatibility_matrix, slot, part), (slot, part))\n",
    "                                  for slot in candidate_slots for part in unallocated_parts]\n",
    "        best = max(average_compatibilities, key=lambda x: x[0])\n",
    "        slot, part = best[1]\n",
    "    i, j = slot\n",
    "    # update occupied neighbours\n",
    "    # occupied_neighbours[i][j] = 0\n",
    "    # update unallocated parts\n",
    "    unallocated_parts.remove(part)\n",
    "    # update puzzle\n",
    "    puzzle[i][j] = part\n",
    "    return puzzle, unallocated_parts\n",
    "\n",
    "            "
   ]
  },
  {
   "cell_type": "code",
   "execution_count": 97,
   "metadata": {},
   "outputs": [
    {
     "name": "stdout",
     "output_type": "stream",
     "text": [
      "[[-1 -1 -1 -1 -1 -1 -1 -1]\n",
      " [-1 -1 -1 -1 -1 -1 -1 -1]\n",
      " [-1 -1 -1 -1 -1 -1 -1 -1]\n",
      " [-1 -1 -1 -1 -1 -1 -1 -1]\n",
      " [-1 -1 -1 -1  0 -1 -1 -1]\n",
      " [-1 -1 -1 -1 -1 -1 -1 -1]\n",
      " [-1 -1 -1 -1 -1 -1 -1 -1]\n",
      " [-1 -1 -1 -1 -1 -1 -1 -1]]\n"
     ]
    }
   ],
   "source": [
    "nrows = 8\n",
    "ncols = 8\n",
    "unallocated_parts = set(range(nrows * ncols))\n",
    "best_estimated_seed = find_best_estimated_seed(best_neighbours)\n",
    "puzzle = np.full((nrows, ncols), -1)\n",
    "puzzle[nrows//2][ncols//2] = best_estimated_seed\n",
    "unallocated_parts.remove(best_estimated_seed)\n",
    "print(puzzle)"
   ]
  },
  {
   "cell_type": "code",
   "execution_count": 99,
   "metadata": {},
   "outputs": [
    {
     "name": "stdout",
     "output_type": "stream",
     "text": [
      "[[-1 -1 -1 -1 -1 -1 -1 -1]\n",
      " [-1 -1 -1 -1 -1 -1 -1 -1]\n",
      " [-1 -1 -1 -1 -1 -1 -1 -1]\n",
      " [-1 -1 -1 -1 -1 -1 -1 -1]\n",
      " [-1 -1 -1 -1  0 -1 -1 -1]\n",
      " [-1 -1 -1 -1 27 -1 -1 -1]\n",
      " [-1 -1 -1 -1 -1 -1 -1 -1]\n",
      " [-1 -1 -1 -1 -1 -1 -1 -1]]\n",
      "[[-1 -1 -1 -1 -1 -1 -1 -1]\n",
      " [-1 -1 -1 -1 -1 -1 -1 -1]\n",
      " [-1 -1 -1 -1 -1 -1 -1 -1]\n",
      " [-1 -1 -1 -1 -1 -1 -1 -1]\n",
      " [-1 -1 -1 18  0 -1 -1 -1]\n",
      " [-1 -1 -1 -1 27 -1 -1 -1]\n",
      " [-1 -1 -1 -1 -1 -1 -1 -1]\n",
      " [-1 -1 -1 -1 -1 -1 -1 -1]]\n",
      "[[-1 -1 -1 -1 -1 -1 -1 -1]\n",
      " [-1 -1 -1 -1 -1 -1 -1 -1]\n",
      " [-1 -1 -1 -1 -1 -1 -1 -1]\n",
      " [-1 -1 -1 -1 -1 -1 -1 -1]\n",
      " [-1 -1 -1 18  0 -1 -1 -1]\n",
      " [-1 -1 -1 63 27 -1 -1 -1]\n",
      " [-1 -1 -1 -1 -1 -1 -1 -1]\n",
      " [-1 -1 -1 -1 -1 -1 -1 -1]]\n",
      "[[-1 -1 -1 -1 -1 -1 -1 -1]\n",
      " [-1 -1 -1 -1 -1 -1 -1 -1]\n",
      " [-1 -1 -1 -1 -1 -1 -1 -1]\n",
      " [-1 -1 -1 -1 -1 -1 -1 -1]\n",
      " [-1 -1 44 18  0 -1 -1 -1]\n",
      " [-1 -1 -1 63 27 -1 -1 -1]\n",
      " [-1 -1 -1 -1 -1 -1 -1 -1]\n",
      " [-1 -1 -1 -1 -1 -1 -1 -1]]\n",
      "[[-1 -1 -1 -1 -1 -1 -1 -1]\n",
      " [-1 -1 -1 -1 -1 -1 -1 -1]\n",
      " [-1 -1 -1 -1 -1 -1 -1 -1]\n",
      " [-1 -1 -1 -1 -1 -1 -1 -1]\n",
      " [-1 -1 44 18  0 -1 -1 -1]\n",
      " [-1 -1 13 63 27 -1 -1 -1]\n",
      " [-1 -1 -1 -1 -1 -1 -1 -1]\n",
      " [-1 -1 -1 -1 -1 -1 -1 -1]]\n",
      "[[-1 -1 -1 -1 -1 -1 -1 -1]\n",
      " [-1 -1 -1 -1 -1 -1 -1 -1]\n",
      " [-1 -1 -1 -1 -1 -1 -1 -1]\n",
      " [-1 -1 12 -1 -1 -1 -1 -1]\n",
      " [-1 -1 44 18  0 -1 -1 -1]\n",
      " [-1 -1 13 63 27 -1 -1 -1]\n",
      " [-1 -1 -1 -1 -1 -1 -1 -1]\n",
      " [-1 -1 -1 -1 -1 -1 -1 -1]]\n"
     ]
    }
   ],
   "source": [
    "steps = 6\n",
    "for i in range(steps):\n",
    "    puzzle, unallocated_parts = place_remaining_parts(puzzle, compatibility_matrix, unallocated_parts)\n",
    "    print(puzzle)"
   ]
  },
  {
   "cell_type": "code",
   "execution_count": null,
   "metadata": {},
   "outputs": [],
   "source": []
  }
 ],
 "metadata": {
  "kernelspec": {
   "display_name": "Python 3",
   "language": "python",
   "name": "python3"
  },
  "language_info": {
   "codemirror_mode": {
    "name": "ipython",
    "version": 3
   },
   "file_extension": ".py",
   "mimetype": "text/x-python",
   "name": "python",
   "nbconvert_exporter": "python",
   "pygments_lexer": "ipython3",
   "version": "3.7.4"
  }
 },
 "nbformat": 4,
 "nbformat_minor": 2
}
