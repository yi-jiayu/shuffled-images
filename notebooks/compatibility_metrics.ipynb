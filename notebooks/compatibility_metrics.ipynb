{
 "cells": [
  {
   "cell_type": "code",
   "execution_count": 1,
   "metadata": {
    "pycharm": {
     "is_executing": false
    }
   },
   "outputs": [],
   "source": [
    "import numpy as np\n",
    "import itertools\n",
    "from skimage import color, io"
   ]
  },
  {
   "cell_type": "code",
   "execution_count": 2,
   "metadata": {},
   "outputs": [],
   "source": [
    "def make_blocks_vectorized(x,d):\n",
    "    return list(itertools.chain.from_iterable(np.hsplit(r, d) for r in np.split(x, d)))"
   ]
  },
  {
   "cell_type": "code",
   "execution_count": 3,
   "metadata": {
    "pycharm": {
     "is_executing": false
    }
   },
   "outputs": [],
   "source": [
    "S = 512 # original width and height of image\n",
    "K = 64 # width and height of each piece\n",
    "\n",
    "original_image = color.rgb2lab(io.imread(\"../data/sources/1200.png\"))\n",
    "original_squares = make_blocks_vectorized(original_image, S // K)\n",
    "scrambled_image =  color.rgb2lab(io.imread(\"../data/1200.png\"))\n",
    "scrambled_squares = make_blocks_vectorized(scrambled_image, S // K)\n",
    "\n",
    "# scrambled pieces\n",
    "x_0 = scrambled_squares[0]\n",
    "x_1 = scrambled_squares[1]\n",
    "\n",
    "# correct pieces\n",
    "x_2 = original_squares[0]\n",
    "x_3 =original_squares[1]"
   ]
  },
  {
   "cell_type": "code",
   "execution_count": 4,
   "metadata": {
    "pycharm": {
     "is_executing": false
    }
   },
   "outputs": [
    {
     "data": {
      "text/plain": [
       "35.677094646907676"
      ]
     },
     "execution_count": 4,
     "metadata": {},
     "output_type": "execute_result"
    }
   ],
   "source": [
    "x_0[0][63][0]"
   ]
  },
  {
   "cell_type": "code",
   "execution_count": 5,
   "metadata": {
    "pycharm": {
     "is_executing": false
    }
   },
   "outputs": [],
   "source": [
    "def dissimilarity(x_i, x_j, r='r'):\n",
    "    return sum(sum((x_i[k][K-1][d] - x_j[k][0][d])**2 for d in range(3)) for k in range(K))"
   ]
  },
  {
   "cell_type": "code",
   "execution_count": 6,
   "metadata": {},
   "outputs": [],
   "source": [
    "def vectorised_dissimilarity(x_i, x_j, r='r'):\n",
    "    return np.sum(np.square(x_i[:,K-1] - x_j[:,0]))"
   ]
  },
  {
   "cell_type": "code",
   "execution_count": 7,
   "metadata": {
    "pycharm": {
     "is_executing": false
    }
   },
   "outputs": [
    {
     "data": {
      "text/plain": [
       "50035.60969747558"
      ]
     },
     "execution_count": 7,
     "metadata": {},
     "output_type": "execute_result"
    }
   ],
   "source": [
    "dissimilarity(x_0, x_1)"
   ]
  },
  {
   "cell_type": "code",
   "execution_count": 8,
   "metadata": {},
   "outputs": [
    {
     "data": {
      "text/plain": [
       "50035.60969747558"
      ]
     },
     "execution_count": 8,
     "metadata": {},
     "output_type": "execute_result"
    }
   ],
   "source": [
    "vectorised_dissimilarity(x_0, x_1)"
   ]
  },
  {
   "cell_type": "code",
   "execution_count": 9,
   "metadata": {
    "pycharm": {
     "is_executing": false
    }
   },
   "outputs": [
    {
     "data": {
      "text/plain": [
       "538.4051935376021"
      ]
     },
     "execution_count": 9,
     "metadata": {},
     "output_type": "execute_result"
    }
   ],
   "source": [
    "dissimilarity(x_2, x_3)"
   ]
  },
  {
   "cell_type": "code",
   "execution_count": 10,
   "metadata": {},
   "outputs": [
    {
     "data": {
      "text/plain": [
       "538.4051935376021"
      ]
     },
     "execution_count": 10,
     "metadata": {},
     "output_type": "execute_result"
    }
   ],
   "source": [
    "vectorised_dissimilarity(x_2, x_3)"
   ]
  },
  {
   "cell_type": "code",
   "execution_count": 11,
   "metadata": {
    "pycharm": {
     "is_executing": false
    }
   },
   "outputs": [],
   "source": [
    "def l_q_dissimiliarity(x_i, x_j, r='r', p=3/10, q=1/16):\n",
    "    return np.power(sum(sum(np.power(np.absolute(x_i[k][K-1][d] - x_j[k][0][d]), p) for d in range(3)) for k in range(K)), q / p)"
   ]
  },
  {
   "cell_type": "code",
   "execution_count": 12,
   "metadata": {},
   "outputs": [],
   "source": [
    "def vectorised_l_q_dissimiliarity(x_i, x_j, r='r', p=3/10, q=1/16):\n",
    "    return np.power(np.sum(np.power(np.abs(x_i[:,K-1] - x_j[:,0]), p)), q/p)"
   ]
  },
  {
   "cell_type": "code",
   "execution_count": 13,
   "metadata": {
    "pycharm": {
     "is_executing": false
    }
   },
   "outputs": [
    {
     "data": {
      "text/plain": [
       "3.3933564063719466"
      ]
     },
     "execution_count": 13,
     "metadata": {},
     "output_type": "execute_result"
    }
   ],
   "source": [
    "l_q_dissimiliarity(x_0, x_1)"
   ]
  },
  {
   "cell_type": "code",
   "execution_count": 14,
   "metadata": {},
   "outputs": [
    {
     "data": {
      "text/plain": [
       "3.3933564063719466"
      ]
     },
     "execution_count": 14,
     "metadata": {},
     "output_type": "execute_result"
    }
   ],
   "source": [
    "vectorised_l_q_dissimiliarity(x_0, x_1)"
   ]
  },
  {
   "cell_type": "code",
   "execution_count": 15,
   "metadata": {
    "pycharm": {
     "is_executing": false,
     "name": "#%%\n"
    }
   },
   "outputs": [
    {
     "data": {
      "text/plain": [
       "2.929677477440781"
      ]
     },
     "execution_count": 15,
     "metadata": {},
     "output_type": "execute_result"
    }
   ],
   "source": [
    "l_q_dissimiliarity(x_2, x_3)"
   ]
  },
  {
   "cell_type": "code",
   "execution_count": 16,
   "metadata": {},
   "outputs": [
    {
     "data": {
      "text/plain": [
       "2.929677477440781"
      ]
     },
     "execution_count": 16,
     "metadata": {},
     "output_type": "execute_result"
    }
   ],
   "source": [
    "vectorised_l_q_dissimiliarity(x_2, x_3)"
   ]
  },
  {
   "cell_type": "code",
   "execution_count": 17,
   "metadata": {
    "pycharm": {
     "name": "#%%\n"
    }
   },
   "outputs": [],
   "source": [
    "def precalculate_dissimiliarities(D, parts, r='r'):\n",
    "    dissimilarity_matrix = np.empty((len(parts), len(parts)))\n",
    "    for i, x_i in enumerate(parts):\n",
    "        for j, x_j in enumerate(parts):\n",
    "            if i == j:\n",
    "                continue\n",
    "            dissimilarity_matrix[i][j] = D(x_i, x_j, r)\n",
    "    return dissimilarity_matrix"
   ]
  },
  {
   "cell_type": "code",
   "execution_count": 18,
   "metadata": {},
   "outputs": [],
   "source": [
    "scrambled_r_dissimilarity_matrix = precalculate_dissimiliarities(vectorised_l_q_dissimiliarity, scrambled_squares)"
   ]
  },
  {
   "cell_type": "code",
   "execution_count": 19,
   "metadata": {},
   "outputs": [],
   "source": [
    "original_r_dissimilarity_matrix = precalculate_dissimiliarities(vectorised_l_q_dissimiliarity, original_squares)"
   ]
  },
  {
   "cell_type": "code",
   "execution_count": 20,
   "metadata": {},
   "outputs": [],
   "source": [
    "def normalised_compatibility(dissimilarities, i, j):\n",
    "    return np.exp(-dissimilarities[i][j]/np.percentile(dissimilarities[i], 25))"
   ]
  },
  {
   "cell_type": "code",
   "execution_count": 21,
   "metadata": {},
   "outputs": [
    {
     "data": {
      "text/plain": [
       "0.3527559890857335"
      ]
     },
     "execution_count": 21,
     "metadata": {},
     "output_type": "execute_result"
    }
   ],
   "source": [
    "normalised_compatibility(scrambled_r_dissimilarity_matrix, 1, 2)"
   ]
  },
  {
   "cell_type": "code",
   "execution_count": 22,
   "metadata": {},
   "outputs": [
    {
     "data": {
      "text/plain": [
       "0.40427476716517763"
      ]
     },
     "execution_count": 22,
     "metadata": {},
     "output_type": "execute_result"
    }
   ],
   "source": [
    "normalised_compatibility(original_r_dissimilarity_matrix, 1, 2)"
   ]
  },
  {
   "cell_type": "code",
   "execution_count": 23,
   "metadata": {},
   "outputs": [
    {
     "data": {
      "text/plain": [
       "(0.404445973765763, (0, 1))"
      ]
     },
     "execution_count": 23,
     "metadata": {},
     "output_type": "execute_result"
    }
   ],
   "source": [
    "best = 0\n",
    "best_pair = None\n",
    "i = 0\n",
    "for j in range(64):\n",
    "    if i == j:\n",
    "        continue\n",
    "    compat = normalised_compatibility(original_r_dissimilarity_matrix, i, j)\n",
    "    if compat >= best:\n",
    "        best = compat\n",
    "        best_pair = (i, j)\n",
    "(best, best_pair)"
   ]
  },
  {
   "cell_type": "code",
   "execution_count": 24,
   "metadata": {},
   "outputs": [
    {
     "data": {
      "text/plain": [
       "(0.4018477412027121, (0, 3))"
      ]
     },
     "execution_count": 24,
     "metadata": {},
     "output_type": "execute_result"
    }
   ],
   "source": [
    "best = 0\n",
    "best_pair = None\n",
    "i = 0\n",
    "for j in range(64):\n",
    "    if i == j:\n",
    "        continue\n",
    "    compat = normalised_compatibility(scrambled_r_dissimilarity_matrix, i, j)\n",
    "    if compat >= best:\n",
    "        best = compat\n",
    "        best_pair = (i, j)\n",
    "(best, best_pair)"
   ]
  },
  {
   "cell_type": "code",
   "execution_count": null,
   "metadata": {},
   "outputs": [],
   "source": []
  }
 ],
 "metadata": {
  "kernelspec": {
   "display_name": "Python 3",
   "language": "python",
   "name": "python3"
  },
  "language_info": {
   "codemirror_mode": {
    "name": "ipython",
    "version": 3
   },
   "file_extension": ".py",
   "mimetype": "text/x-python",
   "name": "python",
   "nbconvert_exporter": "python",
   "pygments_lexer": "ipython3",
   "version": "3.7.4"
  },
  "pycharm": {
   "stem_cell": {
    "cell_type": "raw",
    "metadata": {
     "collapsed": false
    },
    "source": []
   }
  }
 },
 "nbformat": 4,
 "nbformat_minor": 2
}
