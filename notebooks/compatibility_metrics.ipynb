{
 "cells": [
  {
   "cell_type": "code",
   "execution_count": 46,
   "metadata": {
    "pycharm": {
     "is_executing": false
    }
   },
   "outputs": [],
   "source": [
    "import numpy as np\n",
    "import itertools\n",
    "from skimage import color, io"
   ]
  },
  {
   "cell_type": "code",
   "execution_count": 50,
   "metadata": {},
   "outputs": [],
   "source": [
    "def make_blocks_vectorized(x,d):\n",
    "    return list(itertools.chain.from_iterable(np.hsplit(r, d) for r in np.split(x, d)))"
   ]
  },
  {
   "cell_type": "code",
   "execution_count": 74,
   "metadata": {
    "pycharm": {
     "is_executing": false
    }
   },
   "outputs": [],
   "source": [
    "S = 512 # original width and height of image\n",
    "K = 64 # width and height of each piece\n",
    "\n",
    "original_image = io.imread(\"../data/sources/1200.png\")\n",
    "original_squares = make_blocks_vectorized(original_image, S // K)\n",
    "scrambled_image =  io.imread(\"../data/1200.png\")\n",
    "scrambled_squares = make_blocks_vectorized(scrambled_image, S // K)\n",
    "\n",
    "# scrambled pieces\n",
    "x_0 = color.rgb2lab(scrambled_squares[0])\n",
    "x_1 = color.rgb2lab(scrambled_squares[1])\n",
    "\n",
    "x_0p = color.rgb2lab(io.imread('../data/1200_00.png'))\n",
    "x_1p = color.rgb2lab(io.imread('../data/1200_01.png'))\n",
    "\n",
    "# correct pieces\n",
    "x_2 = color.rgb2lab(original_squares[0])\n",
    "x_3 = color.rgb2lab(original_squares[1])"
   ]
  },
  {
   "cell_type": "code",
   "execution_count": 75,
   "metadata": {
    "pycharm": {
     "is_executing": false
    }
   },
   "outputs": [
    {
     "data": {
      "text/plain": [
       "35.677094646907676"
      ]
     },
     "execution_count": 75,
     "metadata": {},
     "output_type": "execute_result"
    }
   ],
   "source": [
    "x_0[0][63][0]"
   ]
  },
  {
   "cell_type": "code",
   "execution_count": 76,
   "metadata": {
    "pycharm": {
     "is_executing": false
    }
   },
   "outputs": [],
   "source": [
    "def dissimilarity(x_i, x_j, r='r'):\n",
    "    return sum(sum((x_i[k][K-1][d] - x_j[k][0][d])**2 for d in range(3)) for k in range(K))"
   ]
  },
  {
   "cell_type": "code",
   "execution_count": 85,
   "metadata": {},
   "outputs": [],
   "source": [
    "def vectorised_dissimilarity(x_i, x_j, r='r'):\n",
    "    return np.sum(np.square(x_i[:,K-1] - x_j[:,0]))"
   ]
  },
  {
   "cell_type": "code",
   "execution_count": 86,
   "metadata": {
    "pycharm": {
     "is_executing": false
    }
   },
   "outputs": [
    {
     "data": {
      "text/plain": [
       "50035.60969747558"
      ]
     },
     "execution_count": 86,
     "metadata": {},
     "output_type": "execute_result"
    }
   ],
   "source": [
    "dissimilarity(x_0, x_1)"
   ]
  },
  {
   "cell_type": "code",
   "execution_count": 87,
   "metadata": {},
   "outputs": [
    {
     "data": {
      "text/plain": [
       "50035.60969747558"
      ]
     },
     "execution_count": 87,
     "metadata": {},
     "output_type": "execute_result"
    }
   ],
   "source": [
    "vectorised_dissimilarity(x_0, x_1)"
   ]
  },
  {
   "cell_type": "code",
   "execution_count": 78,
   "metadata": {
    "pycharm": {
     "is_executing": false
    }
   },
   "outputs": [
    {
     "data": {
      "text/plain": [
       "538.4051935376021"
      ]
     },
     "execution_count": 78,
     "metadata": {},
     "output_type": "execute_result"
    }
   ],
   "source": [
    "dissimilarity(x_2, x_3)"
   ]
  },
  {
   "cell_type": "code",
   "execution_count": 88,
   "metadata": {},
   "outputs": [
    {
     "data": {
      "text/plain": [
       "538.4051935376021"
      ]
     },
     "execution_count": 88,
     "metadata": {},
     "output_type": "execute_result"
    }
   ],
   "source": [
    "vectorised_dissimilarity(x_2, x_3)"
   ]
  },
  {
   "cell_type": "code",
   "execution_count": 79,
   "metadata": {
    "pycharm": {
     "is_executing": false
    }
   },
   "outputs": [],
   "source": [
    "def l_q_dissimiliarity(x_i, x_j, r='r', p=3/10, q=1/16):\n",
    "    return np.power(sum(sum(np.power(np.absolute(x_i[k][K-1][d] - x_j[k][0][d]), p) for d in range(3)) for k in range(K)), q / p)"
   ]
  },
  {
   "cell_type": "code",
   "execution_count": 97,
   "metadata": {},
   "outputs": [],
   "source": [
    "def vectorised_l_q_dissimiliarity(x_i, x_j, r='r', p=3/10, q=1/16):\n",
    "    return np.power(np.sum(np.power(np.abs(x_i[:,K-1] - x_j[:,0]), p)), q/p)"
   ]
  },
  {
   "cell_type": "code",
   "execution_count": 98,
   "metadata": {
    "pycharm": {
     "is_executing": false
    }
   },
   "outputs": [
    {
     "data": {
      "text/plain": [
       "3.3933564063719466"
      ]
     },
     "execution_count": 98,
     "metadata": {},
     "output_type": "execute_result"
    }
   ],
   "source": [
    "l_q_dissimiliarity(x_0, x_1)"
   ]
  },
  {
   "cell_type": "code",
   "execution_count": 99,
   "metadata": {},
   "outputs": [
    {
     "data": {
      "text/plain": [
       "3.3933564063719466"
      ]
     },
     "execution_count": 99,
     "metadata": {},
     "output_type": "execute_result"
    }
   ],
   "source": [
    "vectorised_l_q_dissimiliarity(x_0, x_1)"
   ]
  },
  {
   "cell_type": "code",
   "execution_count": 81,
   "metadata": {
    "pycharm": {
     "is_executing": false,
     "name": "#%%\n"
    }
   },
   "outputs": [
    {
     "data": {
      "text/plain": [
       "2.929677477440781"
      ]
     },
     "execution_count": 81,
     "metadata": {},
     "output_type": "execute_result"
    }
   ],
   "source": [
    "l_q_dissimiliarity(x_2, x_3)"
   ]
  },
  {
   "cell_type": "code",
   "execution_count": 100,
   "metadata": {},
   "outputs": [
    {
     "data": {
      "text/plain": [
       "2.929677477440781"
      ]
     },
     "execution_count": 100,
     "metadata": {},
     "output_type": "execute_result"
    }
   ],
   "source": [
    "vectorised_l_q_dissimiliarity(x_2, x_3)"
   ]
  },
  {
   "cell_type": "code",
   "execution_count": 103,
   "metadata": {
    "pycharm": {
     "name": "#%%\n"
    }
   },
   "outputs": [],
   "source": [
    "def precalculate_dissimiliarities(D, parts, r='r'):\n",
    "    dissimilarity_matrix = np.empty((len(parts), len(parts)))\n",
    "    for i, x_i in enumerate(parts):\n",
    "        for j, x_j in enumerate(parts):\n",
    "            if i == j:\n",
    "                continue\n",
    "            dissimilarity_matrix[i][j] = D(x_i, x_j, r)\n",
    "    return dissimilarity_matrix"
   ]
  },
  {
   "cell_type": "code",
   "execution_count": 106,
   "metadata": {},
   "outputs": [
    {
     "data": {
      "text/plain": [
       "array([[ 0.00000000e+000,  3.76315622e+000,  4.15385359e+000, ...,\n",
       "         4.19879441e+000,  3.83275961e+000,  4.09708726e+000],\n",
       "       [ 3.94276481e+000,  3.60705816e-085,  4.15017941e+000, ...,\n",
       "         4.14714063e+000,  3.78932799e+000,  4.07878260e+000],\n",
       "       [ 3.98976968e+000,  4.05744808e+000,  6.01347002e-154, ...,\n",
       "         3.95811111e+000,  3.99281101e+000,  3.98092906e+000],\n",
       "       ...,\n",
       "       [ 3.98102628e+000,  3.98646914e+000,  4.14115962e+000, ...,\n",
       "        -6.85098432e+303,  3.80507569e+000,  4.13720391e+000],\n",
       "       [ 4.19555309e+000,  3.93450356e+000,  4.12713219e+000, ...,\n",
       "         4.17662826e+000,  1.41244276e-309,  4.16900490e+000],\n",
       "       [ 3.96623656e+000,  3.84915895e+000,  4.18776420e+000, ...,\n",
       "         3.80900165e+000,  3.74213063e+000, -5.31670221e+303]])"
      ]
     },
     "execution_count": 106,
     "metadata": {},
     "output_type": "execute_result"
    }
   ],
   "source": [
    "precalculate_dissimiliarities(vectorised_l_q_dissimiliarity, scrambled_squares)"
   ]
  },
  {
   "cell_type": "code",
   "execution_count": null,
   "metadata": {},
   "outputs": [],
   "source": []
  }
 ],
 "metadata": {
  "kernelspec": {
   "display_name": "Python 3",
   "language": "python",
   "name": "python3"
  },
  "language_info": {
   "codemirror_mode": {
    "name": "ipython",
    "version": 3
   },
   "file_extension": ".py",
   "mimetype": "text/x-python",
   "name": "python",
   "nbconvert_exporter": "python",
   "pygments_lexer": "ipython3",
   "version": "3.7.4"
  },
  "pycharm": {
   "stem_cell": {
    "cell_type": "raw",
    "metadata": {
     "collapsed": false
    },
    "source": []
   }
  }
 },
 "nbformat": 4,
 "nbformat_minor": 2
}
